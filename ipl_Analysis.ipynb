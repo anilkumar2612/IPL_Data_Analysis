{
 "cells": [
  {
   "cell_type": "code",
   "execution_count": 102,
   "metadata": {
    "collapsed": false,
    "nbpresent": {
     "id": "2e069de0-9b73-465f-95f1-322a349ccb39"
    }
   },
   "outputs": [],
   "source": [
    "import pandas as pd\n",
    "import numpy as np\n",
    "import yaml\n",
    "import glob\n",
    "import os\n",
    "import os.path\n",
    "import csv\n",
    "import json\n",
    "import matplotlib.pyplot as plt\n",
    "\n",
    "import seaborn as sns\n",
    "sns.set(style=\"whitegrid\")\n",
    "\n",
    "%matplotlib inline"
   ]
  },
  {
   "cell_type": "code",
   "execution_count": 2,
   "metadata": {
    "collapsed": false,
    "nbpresent": {
     "id": "7f1246d8-6e2c-4960-9c5c-ae5e57484f44"
    }
   },
   "outputs": [],
   "source": [
    "def load_from_yaml(t):\n",
    "    stream = file(t, 'r')\n",
    "    dic=yaml.load(stream)\n",
    "    return dic\n",
    "\n",
    "def load_from_csv(t):\n",
    "    temp=[]\n",
    "    with open(t, 'rb') as csvfile:\n",
    "        rdata = csv.reader(csvfile, delimiter=',', quotechar='|')\n",
    "        for row in rdata:\n",
    "            if(row[0]=='info'):\n",
    "                temp.append(row[2])                \n",
    "    return temp\n",
    "\n",
    "\n",
    "def change_winner(x):\n",
    "    if(x=='SunrisersHyderabad'):\n",
    "        return 'Sunrisers Hyderabad'\n",
    "    if(x=='RisingPuneSupergiants'):\n",
    "        return 'Rising Pune Supergiant'\n",
    "    if(x=='KolkataKnightRiders'):\n",
    "        return 'Kolkata Knight Riders'\n",
    "    if(x=='KingsXIPunjab'):\n",
    "        return 'Kings XI Punjab'\n",
    "    if(x=='RoyalChallengersBangalore'):\n",
    "        return 'Royal Challengers Bangalore'\n",
    "    if(x=='MumbaiIndians'):\n",
    "        return 'Mumbai Indians'\n",
    "    if(x=='DelhiDaredevils'):\n",
    "        return 'Delhi Daredevils'\n",
    "    if(x=='GujaratLions'):\n",
    "        return 'Gujarat Lions'\n",
    "    if(x=='ChennaiSuperKings'):\n",
    "        return 'Chennai Super Kings'\n",
    "    if(x=='RajasthanRoyals'):\n",
    "        return 'Rajasthan Royals'\n",
    "    if(x=='DeccanChargers'):\n",
    "        return 'Deccan Chargers'\n",
    "    if(x=='PuneWarriors'):\n",
    "        return 'Pune Warriors'\n",
    "    if(x=='KochiTuskersKerala'):\n",
    "        return 'Kochi Tuskers Kerala'\n",
    "    if(x=='result:noresult'):\n",
    "        return 'result:noresult'\n",
    "    else:\n",
    "        return x\n",
    "\n",
    "\n",
    "def won_by_side(x,y,z):\n",
    "    if(str(z)=='field' & str(x)==str(y)):\n",
    "        return 'Batting 2nd Side'\n",
    "    else:\n",
    "        return 'Batting 1st Side'"
   ]
  },
  {
   "cell_type": "code",
   "execution_count": 3,
   "metadata": {
    "collapsed": false,
    "nbpresent": {
     "id": "efc3e835-46d3-4b24-b72f-91dfd8d10a24"
    },
    "scrolled": true
   },
   "outputs": [],
   "source": [
    "#iplmatches_info2={}\n",
    "\n",
    "#for i in glob.glob(\"./ipl_csv/*.csv\"):\n",
    "#    key=i.split('/')[-1].replace('.csv','')\n",
    "#    temp=load_from_csv(i)\n",
    "#    iplmatches_info2[key]=temp\n",
    "    \n",
    "#index_df=pd.Series(['team1','team2','gender','season','date','competition','match_number','venue','city','toss_winner','toss_decision','player_of_match','umpire1','umpire2','reserve_umpire','tv_umpire','match_referee','winner','winner_runs','dummy','dummy1'])\n",
    "#df=pd.DataFrame.from_dict(iplmatches_info2, orient='index')\n",
    "#df.columns=index_df"
   ]
  },
  {
   "cell_type": "markdown",
   "metadata": {
    "collapsed": false,
    "nbpresent": {
     "id": "b293f5bc-333e-4c0b-8101-c566ac107c8a"
    }
   },
   "source": [
    "abc"
   ]
  },
  {
   "cell_type": "code",
   "execution_count": 4,
   "metadata": {
    "collapsed": false,
    "nbpresent": {
     "id": "8cd0f8c8-1869-4546-8824-0c0e68ab5c16"
    }
   },
   "outputs": [],
   "source": [
    "#iplmatches_info={}\n",
    "\n",
    "\n",
    "#for i in glob.glob(\"./ipl/*.yaml\"):\n",
    "#    key=i.split('/')[-1].replace('.yaml','')\n",
    "#    temp = load_from_yaml(i)\n",
    "#    iplmatches_info[key]=temp['info']\n",
    "    "
   ]
  },
  {
   "cell_type": "code",
   "execution_count": 5,
   "metadata": {
    "collapsed": false,
    "nbpresent": {
     "id": "4b000337-006d-4199-9755-62f067cd0b91"
    },
    "scrolled": true
   },
   "outputs": [],
   "source": [
    "#df=pd.DataFrame(iplmatches_info).T"
   ]
  },
  {
   "cell_type": "code",
   "execution_count": 6,
   "metadata": {
    "collapsed": false,
    "nbpresent": {
     "id": "0eae3384-e933-4350-80df-6cd14f4cb175"
    }
   },
   "outputs": [],
   "source": [
    "# Exporting to excel for cleaning\n",
    "#df.to_excel('ipl_data1.xlsx')"
   ]
  },
  {
   "cell_type": "code",
   "execution_count": 7,
   "metadata": {
    "collapsed": false
   },
   "outputs": [],
   "source": [
    "# Importing the clean data from Excel\n",
    "ipl_data=pd.read_excel('ipl_data.xlsx')"
   ]
  },
  {
   "cell_type": "code",
   "execution_count": 9,
   "metadata": {
    "collapsed": false
   },
   "outputs": [],
   "source": [
    "#Convert to date \n",
    "#ipl_data['dates'] = pd.to_datetime(ipl_data['dates'])\n",
    "\n",
    "#Extracting Year\n",
    "#ipl_data['year']=ipl_data['dates'].apply(lambda x: str(x)[:4])\n",
    "\n",
    "# winner team proper convresion\n",
    "#ipl_data['winner']=ipl_data['winner'].apply(change_winner)\n",
    "\n",
    "#removing eliminator\n",
    "#ipl_data['winner']=ipl_data['winner'].apply(lambda x: str(x).replace('eliminator: ', '').replace('RisingPuneSupergiantss','RisingPuneSupergiants'))"
   ]
  },
  {
   "cell_type": "code",
   "execution_count": 11,
   "metadata": {
    "collapsed": false
   },
   "outputs": [],
   "source": [
    "#bk_by_city=ipl_data.groupby([ 'wickets/runs','year'])['year'].count()\n",
    "#bk_by_city.unstack().T"
   ]
  },
  {
   "cell_type": "code",
   "execution_count": null,
   "metadata": {
    "collapsed": false
   },
   "outputs": [],
   "source": []
  },
  {
   "cell_type": "code",
   "execution_count": null,
   "metadata": {
    "collapsed": false
   },
   "outputs": [],
   "source": []
  },
  {
   "cell_type": "code",
   "execution_count": 425,
   "metadata": {
    "collapsed": false
   },
   "outputs": [],
   "source": [
    "titanic=sns.load_dataset('titanic')"
   ]
  },
  {
   "cell_type": "code",
   "execution_count": 427,
   "metadata": {
    "collapsed": false
   },
   "outputs": [
    {
     "data": {
      "text/html": [
       "<div>\n",
       "<table border=\"1\" class=\"dataframe\">\n",
       "  <thead>\n",
       "    <tr style=\"text-align: right;\">\n",
       "      <th></th>\n",
       "      <th>survived</th>\n",
       "      <th>pclass</th>\n",
       "      <th>sex</th>\n",
       "      <th>age</th>\n",
       "      <th>sibsp</th>\n",
       "      <th>parch</th>\n",
       "      <th>fare</th>\n",
       "      <th>embarked</th>\n",
       "      <th>class</th>\n",
       "      <th>who</th>\n",
       "      <th>adult_male</th>\n",
       "      <th>deck</th>\n",
       "      <th>embark_town</th>\n",
       "      <th>alive</th>\n",
       "      <th>alone</th>\n",
       "    </tr>\n",
       "  </thead>\n",
       "  <tbody>\n",
       "    <tr>\n",
       "      <th>0</th>\n",
       "      <td>0</td>\n",
       "      <td>3</td>\n",
       "      <td>male</td>\n",
       "      <td>22.0</td>\n",
       "      <td>1</td>\n",
       "      <td>0</td>\n",
       "      <td>7.2500</td>\n",
       "      <td>S</td>\n",
       "      <td>Third</td>\n",
       "      <td>man</td>\n",
       "      <td>True</td>\n",
       "      <td>NaN</td>\n",
       "      <td>Southampton</td>\n",
       "      <td>no</td>\n",
       "      <td>False</td>\n",
       "    </tr>\n",
       "    <tr>\n",
       "      <th>1</th>\n",
       "      <td>1</td>\n",
       "      <td>1</td>\n",
       "      <td>female</td>\n",
       "      <td>38.0</td>\n",
       "      <td>1</td>\n",
       "      <td>0</td>\n",
       "      <td>71.2833</td>\n",
       "      <td>C</td>\n",
       "      <td>First</td>\n",
       "      <td>woman</td>\n",
       "      <td>False</td>\n",
       "      <td>C</td>\n",
       "      <td>Cherbourg</td>\n",
       "      <td>yes</td>\n",
       "      <td>False</td>\n",
       "    </tr>\n",
       "    <tr>\n",
       "      <th>2</th>\n",
       "      <td>1</td>\n",
       "      <td>3</td>\n",
       "      <td>female</td>\n",
       "      <td>26.0</td>\n",
       "      <td>0</td>\n",
       "      <td>0</td>\n",
       "      <td>7.9250</td>\n",
       "      <td>S</td>\n",
       "      <td>Third</td>\n",
       "      <td>woman</td>\n",
       "      <td>False</td>\n",
       "      <td>NaN</td>\n",
       "      <td>Southampton</td>\n",
       "      <td>yes</td>\n",
       "      <td>True</td>\n",
       "    </tr>\n",
       "    <tr>\n",
       "      <th>3</th>\n",
       "      <td>1</td>\n",
       "      <td>1</td>\n",
       "      <td>female</td>\n",
       "      <td>35.0</td>\n",
       "      <td>1</td>\n",
       "      <td>0</td>\n",
       "      <td>53.1000</td>\n",
       "      <td>S</td>\n",
       "      <td>First</td>\n",
       "      <td>woman</td>\n",
       "      <td>False</td>\n",
       "      <td>C</td>\n",
       "      <td>Southampton</td>\n",
       "      <td>yes</td>\n",
       "      <td>False</td>\n",
       "    </tr>\n",
       "    <tr>\n",
       "      <th>4</th>\n",
       "      <td>0</td>\n",
       "      <td>3</td>\n",
       "      <td>male</td>\n",
       "      <td>35.0</td>\n",
       "      <td>0</td>\n",
       "      <td>0</td>\n",
       "      <td>8.0500</td>\n",
       "      <td>S</td>\n",
       "      <td>Third</td>\n",
       "      <td>man</td>\n",
       "      <td>True</td>\n",
       "      <td>NaN</td>\n",
       "      <td>Southampton</td>\n",
       "      <td>no</td>\n",
       "      <td>True</td>\n",
       "    </tr>\n",
       "  </tbody>\n",
       "</table>\n",
       "</div>"
      ],
      "text/plain": [
       "   survived  pclass     sex   age  sibsp  parch     fare embarked  class  \\\n",
       "0         0       3    male  22.0      1      0   7.2500        S  Third   \n",
       "1         1       1  female  38.0      1      0  71.2833        C  First   \n",
       "2         1       3  female  26.0      0      0   7.9250        S  Third   \n",
       "3         1       1  female  35.0      1      0  53.1000        S  First   \n",
       "4         0       3    male  35.0      0      0   8.0500        S  Third   \n",
       "\n",
       "     who adult_male deck  embark_town alive  alone  \n",
       "0    man       True  NaN  Southampton    no  False  \n",
       "1  woman      False    C    Cherbourg   yes  False  \n",
       "2  woman      False  NaN  Southampton   yes   True  \n",
       "3  woman      False    C  Southampton   yes  False  \n",
       "4    man       True  NaN  Southampton    no   True  "
      ]
     },
     "execution_count": 427,
     "metadata": {},
     "output_type": "execute_result"
    }
   ],
   "source": [
    "titanic.head()"
   ]
  },
  {
   "cell_type": "code",
   "execution_count": 439,
   "metadata": {
    "collapsed": false
   },
   "outputs": [
    {
     "data": {
      "text/plain": [
       "<matplotlib.text.Text at 0x127019310>"
      ]
     },
     "execution_count": 439,
     "metadata": {},
     "output_type": "execute_result"
    },
    {
     "data": {
      "image/png": "[encoded data removed]",
      "text/plain": [
       "<matplotlib.figure.Figure at 0x125fd4490>"
      ]
     },
     "metadata": {},
     "output_type": "display_data"
    }
   ],
   "source": [
    "g=sns.barplot(x='pclass', y='survived',hue='sex',data=titanic)\n",
    "g.set_ylabel(\"survival probability \")"
   ]
  },
  {
   "cell_type": "code",
   "execution_count": 440,
   "metadata": {
    "collapsed": false
   },
   "outputs": [
    {
     "data": {
      "image/png": "[encoded data removed]",
      "text/plain": [
       "<matplotlib.figure.Figure at 0x126ada3d0>"
      ]
     },
     "metadata": {},
     "output_type": "display_data"
    }
   ],
   "source": [
    "sns.boxplot(x=\"pclass\", y=\"fare\", hue=\"sex\", data=titanic, palette=\"PRGn\")\n",
    "sns.despine(offset=10, trim=True)"
   ]
  },
  {
   "cell_type": "code",
   "execution_count": 296,
   "metadata": {
    "collapsed": false
   },
   "outputs": [],
   "source": [
    "ipl_final=pd.read_excel(\"ipl_data_final.xlsx\",sheetname=\"Final\")"
   ]
  },
  {
   "cell_type": "code",
   "execution_count": 297,
   "metadata": {
    "collapsed": false
   },
   "outputs": [],
   "source": [
    "ipl_final.reset_index(inplace=True)"
   ]
  },
  {
   "cell_type": "code",
   "execution_count": 308,
   "metadata": {
    "collapsed": false
   },
   "outputs": [],
   "source": [
    "ipl_final.to_json('ipl_final.json', orient='records')"
   ]
  },
  {
   "cell_type": "code",
   "execution_count": 310,
   "metadata": {
    "collapsed": false
   },
   "outputs": [],
   "source": [
    "#import datetime\n",
    "#ipl_final['year']=ipl_final['date'].dt.year\n"
   ]
  },
  {
   "cell_type": "code",
   "execution_count": 206,
   "metadata": {
    "collapsed": false,
    "scrolled": false
   },
   "outputs": [
    {
     "data": {
      "text/plain": [
       "<matplotlib.axes._subplots.AxesSubplot at 0x12a930d10>"
      ]
     },
     "execution_count": 206,
     "metadata": {},
     "output_type": "execute_result"
    },
    {
     "data": {
      "image/png": "[encoded data removed]",
      "text/plain": [
       "<matplotlib.figure.Figure at 0x1294d1990>"
      ]
     },
     "metadata": {},
     "output_type": "display_data"
    }
   ],
   "source": [
    "x=pd.DataFrame(pd.pivot_table(ipl_final, columns=['is_won_or_lost'], index=['team'], aggfunc='count')['Id'])\n",
    "x.fillna('0')\n",
    "x.plot(kind='bar',sort_columns='is_won_or_lost',figsize=[10,6],title='Split by result')"
   ]
  },
  {
   "cell_type": "code",
   "execution_count": 204,
   "metadata": {
    "collapsed": false
   },
   "outputs": [
    {
     "data": {
      "text/html": [
       "<div>\n",
       "<table border=\"1\" class=\"dataframe\">\n",
       "  <thead>\n",
       "    <tr style=\"text-align: right;\">\n",
       "      <th>is_won_or_lost</th>\n",
       "      <th>loss</th>\n",
       "      <th>na</th>\n",
       "      <th>no result</th>\n",
       "      <th>tie</th>\n",
       "      <th>win</th>\n",
       "    </tr>\n",
       "    <tr>\n",
       "      <th>team</th>\n",
       "      <th></th>\n",
       "      <th></th>\n",
       "      <th></th>\n",
       "      <th></th>\n",
       "      <th></th>\n",
       "    </tr>\n",
       "  </thead>\n",
       "  <tbody>\n",
       "    <tr>\n",
       "      <th>Chennai Super Kings</th>\n",
       "      <td>23.0</td>\n",
       "      <td>1.0</td>\n",
       "      <td>0.0</td>\n",
       "      <td>0.0</td>\n",
       "      <td>107.0</td>\n",
       "    </tr>\n",
       "    <tr>\n",
       "      <th>Deccan Chargers</th>\n",
       "      <td>26.0</td>\n",
       "      <td>0.0</td>\n",
       "      <td>0.0</td>\n",
       "      <td>0.0</td>\n",
       "      <td>49.0</td>\n",
       "    </tr>\n",
       "    <tr>\n",
       "      <th>Delhi Daredevils</th>\n",
       "      <td>40.0</td>\n",
       "      <td>1.0</td>\n",
       "      <td>2.0</td>\n",
       "      <td>0.0</td>\n",
       "      <td>102.0</td>\n",
       "    </tr>\n",
       "    <tr>\n",
       "      <th>Gujarat Lions</th>\n",
       "      <td>9.0</td>\n",
       "      <td>1.0</td>\n",
       "      <td>0.0</td>\n",
       "      <td>0.0</td>\n",
       "      <td>19.0</td>\n",
       "    </tr>\n",
       "    <tr>\n",
       "      <th>Kings XI Punjab</th>\n",
       "      <td>37.0</td>\n",
       "      <td>2.0</td>\n",
       "      <td>0.0</td>\n",
       "      <td>0.0</td>\n",
       "      <td>108.0</td>\n",
       "    </tr>\n",
       "    <tr>\n",
       "      <th>Kochi Tuskers Kerala</th>\n",
       "      <td>4.0</td>\n",
       "      <td>0.0</td>\n",
       "      <td>0.0</td>\n",
       "      <td>0.0</td>\n",
       "      <td>10.0</td>\n",
       "    </tr>\n",
       "    <tr>\n",
       "      <th>Kolkata Knight Riders</th>\n",
       "      <td>25.0</td>\n",
       "      <td>1.0</td>\n",
       "      <td>0.0</td>\n",
       "      <td>1.0</td>\n",
       "      <td>118.0</td>\n",
       "    </tr>\n",
       "    <tr>\n",
       "      <th>Mumbai Indians</th>\n",
       "      <td>25.0</td>\n",
       "      <td>1.0</td>\n",
       "      <td>0.0</td>\n",
       "      <td>0.0</td>\n",
       "      <td>127.0</td>\n",
       "    </tr>\n",
       "    <tr>\n",
       "      <th>Pune Warriors</th>\n",
       "      <td>17.0</td>\n",
       "      <td>0.0</td>\n",
       "      <td>1.0</td>\n",
       "      <td>0.0</td>\n",
       "      <td>28.0</td>\n",
       "    </tr>\n",
       "    <tr>\n",
       "      <th>Rajasthan Royals</th>\n",
       "      <td>16.0</td>\n",
       "      <td>2.0</td>\n",
       "      <td>1.0</td>\n",
       "      <td>1.0</td>\n",
       "      <td>98.0</td>\n",
       "    </tr>\n",
       "    <tr>\n",
       "      <th>Rising Pune Supergiants</th>\n",
       "      <td>7.0</td>\n",
       "      <td>0.0</td>\n",
       "      <td>0.0</td>\n",
       "      <td>0.0</td>\n",
       "      <td>19.0</td>\n",
       "    </tr>\n",
       "    <tr>\n",
       "      <th>Royal Challengers Bangalore</th>\n",
       "      <td>40.0</td>\n",
       "      <td>2.0</td>\n",
       "      <td>2.0</td>\n",
       "      <td>0.0</td>\n",
       "      <td>107.0</td>\n",
       "    </tr>\n",
       "    <tr>\n",
       "      <th>Sunrisers Hyderabad</th>\n",
       "      <td>14.0</td>\n",
       "      <td>1.0</td>\n",
       "      <td>0.0</td>\n",
       "      <td>0.0</td>\n",
       "      <td>59.0</td>\n",
       "    </tr>\n",
       "  </tbody>\n",
       "</table>\n",
       "</div>"
      ],
      "text/plain": [
       "is_won_or_lost               loss   na  no result  tie    win\n",
       "team                                                         \n",
       "Chennai Super Kings          23.0  1.0        0.0  0.0  107.0\n",
       "Deccan Chargers              26.0  0.0        0.0  0.0   49.0\n",
       "Delhi Daredevils             40.0  1.0        2.0  0.0  102.0\n",
       "Gujarat Lions                 9.0  1.0        0.0  0.0   19.0\n",
       "Kings XI Punjab              37.0  2.0        0.0  0.0  108.0\n",
       "Kochi Tuskers Kerala          4.0  0.0        0.0  0.0   10.0\n",
       "Kolkata Knight Riders        25.0  1.0        0.0  1.0  118.0\n",
       "Mumbai Indians               25.0  1.0        0.0  0.0  127.0\n",
       "Pune Warriors                17.0  0.0        1.0  0.0   28.0\n",
       "Rajasthan Royals             16.0  2.0        1.0  1.0   98.0\n",
       "Rising Pune Supergiants       7.0  0.0        0.0  0.0   19.0\n",
       "Royal Challengers Bangalore  40.0  2.0        2.0  0.0  107.0\n",
       "Sunrisers Hyderabad          14.0  1.0        0.0  0.0   59.0"
      ]
     },
     "execution_count": 204,
     "metadata": {},
     "output_type": "execute_result"
    }
   ],
   "source": [
    "x.fillna(0.0)"
   ]
  },
  {
   "cell_type": "code",
   "execution_count": 304,
   "metadata": {
    "collapsed": false
   },
   "outputs": [
    {
     "data": {
      "text/plain": [
       "\"def form_list(a,b):\\n    l=[]\\n    l.append(a)\\n    l.append(b)\\n    return l\\n\\nwith open('ipl_final.json') as json_file:  \\n    data = json.load(json_file)\\n    \\n    \\nfor i in data:\\n    t=i['host']\\n    o=i['visiting']\\n    i['teams']=form_list(t, o)\\n    \\ndf=pd.DataFrame(data)\\ndf.to_json('xyz.json',orient='records')\\n\""
      ]
     },
     "execution_count": 304,
     "metadata": {},
     "output_type": "execute_result"
    }
   ],
   "source": [
    "\"\"\"def form_list(a,b):\n",
    "    l=[]\n",
    "    l.append(a)\n",
    "    l.append(b)\n",
    "    return l\n",
    "\n",
    "with open('ipl_final.json') as json_file:  \n",
    "    data = json.load(json_file)\n",
    "    \n",
    "    \n",
    "for i in data:\n",
    "    t=i['host']\n",
    "    o=i['visiting']\n",
    "    i['teams']=form_list(t, o)\n",
    "    \n",
    "df=pd.DataFrame(data)\n",
    "df.to_json('xyz.json',orient='records')\n",
    "\"\"\""
   ]
  },
  {
   "cell_type": "code",
   "execution_count": null,
   "metadata": {
    "collapsed": false
   },
   "outputs": [],
   "source": []
  },
  {
   "cell_type": "code",
   "execution_count": 309,
   "metadata": {
    "collapsed": false
   },
   "outputs": [
    {
     "data": {
      "text/html": [
       "<div>\n",
       "<table border=\"1\" class=\"dataframe\">\n",
       "  <thead>\n",
       "    <tr style=\"text-align: right;\">\n",
       "      <th></th>\n",
       "      <th>Index</th>\n",
       "      <th>Id</th>\n",
       "      <th>ipl_season</th>\n",
       "      <th>Match</th>\n",
       "      <th>year</th>\n",
       "      <th>date</th>\n",
       "      <th>team</th>\n",
       "      <th>host_or_visiting</th>\n",
       "      <th>opponent</th>\n",
       "      <th>is_won_or_lost</th>\n",
       "      <th>...</th>\n",
       "      <th>player_of_match</th>\n",
       "      <th>umpires</th>\n",
       "      <th>is_neutral_home_away_match</th>\n",
       "      <th>city</th>\n",
       "      <th>venue</th>\n",
       "      <th>toss_status</th>\n",
       "      <th>toss_wining_team_opted_for</th>\n",
       "      <th>bat_ball_first</th>\n",
       "      <th>measure</th>\n",
       "      <th>short_name</th>\n",
       "    </tr>\n",
       "  </thead>\n",
       "  <tbody>\n",
       "    <tr>\n",
       "      <th>0</th>\n",
       "      <td>1</td>\n",
       "      <td>335982</td>\n",
       "      <td>1</td>\n",
       "      <td>1</td>\n",
       "      <td>2008</td>\n",
       "      <td>2008-04-18</td>\n",
       "      <td>Royal Challengers Bangalore</td>\n",
       "      <td>host</td>\n",
       "      <td>Kolkata Knight Riders</td>\n",
       "      <td>loss</td>\n",
       "      <td>...</td>\n",
       "      <td>BB McCullum</td>\n",
       "      <td>Asad Rauf</td>\n",
       "      <td>home</td>\n",
       "      <td>Bangalore</td>\n",
       "      <td>M Chinnaswamy Stadium</td>\n",
       "      <td>won</td>\n",
       "      <td>field</td>\n",
       "      <td>ball</td>\n",
       "      <td>1</td>\n",
       "      <td>RCB</td>\n",
       "    </tr>\n",
       "    <tr>\n",
       "      <th>1</th>\n",
       "      <td>304</td>\n",
       "      <td>335982</td>\n",
       "      <td>1</td>\n",
       "      <td>1</td>\n",
       "      <td>2008</td>\n",
       "      <td>2008-04-18</td>\n",
       "      <td>Kolkata Knight Riders</td>\n",
       "      <td>visiting</td>\n",
       "      <td>Royal Challengers Bangalore</td>\n",
       "      <td>win</td>\n",
       "      <td>...</td>\n",
       "      <td>BB McCullum</td>\n",
       "      <td>RE Koertzen</td>\n",
       "      <td>away</td>\n",
       "      <td>Bangalore</td>\n",
       "      <td>M Chinnaswamy Stadium</td>\n",
       "      <td>loss</td>\n",
       "      <td>field</td>\n",
       "      <td>bat</td>\n",
       "      <td>1</td>\n",
       "      <td>KKR</td>\n",
       "    </tr>\n",
       "    <tr>\n",
       "      <th>2</th>\n",
       "      <td>2</td>\n",
       "      <td>335983</td>\n",
       "      <td>1</td>\n",
       "      <td>2</td>\n",
       "      <td>2008</td>\n",
       "      <td>2008-04-19</td>\n",
       "      <td>Kings XI Punjab</td>\n",
       "      <td>host</td>\n",
       "      <td>Chennai Super Kings</td>\n",
       "      <td>loss</td>\n",
       "      <td>...</td>\n",
       "      <td>MEK Hussey</td>\n",
       "      <td>MR Benson</td>\n",
       "      <td>home</td>\n",
       "      <td>Chandigarh</td>\n",
       "      <td>Punjab Cricket Association Stadium, Mohali</td>\n",
       "      <td>loss</td>\n",
       "      <td>bat</td>\n",
       "      <td>ball</td>\n",
       "      <td>1</td>\n",
       "      <td>KXIP</td>\n",
       "    </tr>\n",
       "    <tr>\n",
       "      <th>3</th>\n",
       "      <td>305</td>\n",
       "      <td>335983</td>\n",
       "      <td>1</td>\n",
       "      <td>2</td>\n",
       "      <td>2008</td>\n",
       "      <td>2008-04-19</td>\n",
       "      <td>Chennai Super Kings</td>\n",
       "      <td>visiting</td>\n",
       "      <td>Kings XI Punjab</td>\n",
       "      <td>win</td>\n",
       "      <td>...</td>\n",
       "      <td>MEK Hussey</td>\n",
       "      <td>SL Shastri</td>\n",
       "      <td>away</td>\n",
       "      <td>Chandigarh</td>\n",
       "      <td>Punjab Cricket Association Stadium, Mohali</td>\n",
       "      <td>won</td>\n",
       "      <td>bat</td>\n",
       "      <td>bat</td>\n",
       "      <td>1</td>\n",
       "      <td>CSK</td>\n",
       "    </tr>\n",
       "    <tr>\n",
       "      <th>4</th>\n",
       "      <td>587</td>\n",
       "      <td>335984</td>\n",
       "      <td>1</td>\n",
       "      <td>3</td>\n",
       "      <td>2008</td>\n",
       "      <td>2008-04-19</td>\n",
       "      <td>Delhi Daredevils</td>\n",
       "      <td>host</td>\n",
       "      <td>Rajasthan Royals</td>\n",
       "      <td>win</td>\n",
       "      <td>...</td>\n",
       "      <td>MF Maharoof</td>\n",
       "      <td>Aleem Dar</td>\n",
       "      <td>away</td>\n",
       "      <td>Delhi</td>\n",
       "      <td>Feroz Shah Kotla</td>\n",
       "      <td>loss</td>\n",
       "      <td>bat</td>\n",
       "      <td>ball</td>\n",
       "      <td>1</td>\n",
       "      <td>DD</td>\n",
       "    </tr>\n",
       "  </tbody>\n",
       "</table>\n",
       "<p>5 rows × 23 columns</p>\n",
       "</div>"
      ],
      "text/plain": [
       "   Index      Id  ipl_season  Match  year       date  \\\n",
       "0      1  335982           1      1  2008 2008-04-18   \n",
       "1    304  335982           1      1  2008 2008-04-18   \n",
       "2      2  335983           1      2  2008 2008-04-19   \n",
       "3    305  335983           1      2  2008 2008-04-19   \n",
       "4    587  335984           1      3  2008 2008-04-19   \n",
       "\n",
       "                          team host_or_visiting                     opponent  \\\n",
       "0  Royal Challengers Bangalore             host        Kolkata Knight Riders   \n",
       "1        Kolkata Knight Riders         visiting  Royal Challengers Bangalore   \n",
       "2              Kings XI Punjab             host          Chennai Super Kings   \n",
       "3          Chennai Super Kings         visiting              Kings XI Punjab   \n",
       "4             Delhi Daredevils             host             Rajasthan Royals   \n",
       "\n",
       "  is_won_or_lost    ...     player_of_match      umpires  \\\n",
       "0           loss    ...         BB McCullum    Asad Rauf   \n",
       "1            win    ...         BB McCullum  RE Koertzen   \n",
       "2           loss    ...          MEK Hussey    MR Benson   \n",
       "3            win    ...          MEK Hussey   SL Shastri   \n",
       "4            win    ...         MF Maharoof    Aleem Dar   \n",
       "\n",
       "   is_neutral_home_away_match        city  \\\n",
       "0                        home   Bangalore   \n",
       "1                        away   Bangalore   \n",
       "2                        home  Chandigarh   \n",
       "3                        away  Chandigarh   \n",
       "4                        away       Delhi   \n",
       "\n",
       "                                        venue toss_status  \\\n",
       "0                       M Chinnaswamy Stadium         won   \n",
       "1                       M Chinnaswamy Stadium        loss   \n",
       "2  Punjab Cricket Association Stadium, Mohali        loss   \n",
       "3  Punjab Cricket Association Stadium, Mohali         won   \n",
       "4                            Feroz Shah Kotla        loss   \n",
       "\n",
       "  toss_wining_team_opted_for bat_ball_first measure short_name  \n",
       "0                      field           ball       1        RCB  \n",
       "1                      field            bat       1        KKR  \n",
       "2                        bat           ball       1       KXIP  \n",
       "3                        bat            bat       1        CSK  \n",
       "4                        bat           ball       1         DD  \n",
       "\n",
       "[5 rows x 23 columns]"
      ]
     },
     "execution_count": 309,
     "metadata": {},
     "output_type": "execute_result"
    }
   ],
   "source": [
    "ipl_final.head()"
   ]
  },
  {
   "cell_type": "code",
   "execution_count": 293,
   "metadata": {
    "collapsed": false,
    "scrolled": true
   },
   "outputs": [],
   "source": []
  },
  {
   "cell_type": "code",
   "execution_count": 294,
   "metadata": {
    "collapsed": true
   },
   "outputs": [],
   "source": []
  },
  {
   "cell_type": "code",
   "execution_count": 295,
   "metadata": {
    "collapsed": false
   },
   "outputs": [],
   "source": []
  },
  {
   "cell_type": "code",
   "execution_count": null,
   "metadata": {
    "collapsed": true
   },
   "outputs": [],
   "source": []
  }
 ],
 "metadata": {
  "anaconda-cloud": {},
  "kernelspec": {
   "display_name": "Python [default]",
   "language": "python",
   "name": "python2"
  },
  "language_info": {
   "codemirror_mode": {
    "name": "ipython",
    "version": 2
   },
   "file_extension": ".py",
   "mimetype": "text/x-python",
   "name": "python",
   "nbconvert_exporter": "python",
   "pygments_lexer": "ipython2",
   "version": "2.7.12"
  }
 },
 "nbformat": 4,
 "nbformat_minor": 1
}
